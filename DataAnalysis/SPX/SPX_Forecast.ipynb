{
  "nbformat": 4,
  "nbformat_minor": 0,
  "metadata": {
    "colab": {
      "provenance": []
    },
    "kernelspec": {
      "name": "python3",
      "display_name": "Python 3"
    },
    "language_info": {
      "name": "python"
    }
  },
  "cells": [
    {
      "cell_type": "code",
      "source": [
        "from google.colab import drive\n",
        "drive.mount('/content/drive')"
      ],
      "metadata": {
        "colab": {
          "base_uri": "https://localhost:8080/"
        },
        "id": "Sqe9fc-buq2b",
        "outputId": "44c0803d-4410-4e14-ea54-4cfc0652ea9b"
      },
      "execution_count": 1,
      "outputs": [
        {
          "output_type": "stream",
          "name": "stdout",
          "text": [
            "Mounted at /content/drive\n"
          ]
        }
      ]
    },
    {
      "cell_type": "code",
      "execution_count": 2,
      "metadata": {
        "id": "Ve6fWW-0s_4i"
      },
      "outputs": [],
      "source": [
        "import sys\n",
        "import warnings\n",
        "warnings.filterwarnings(\"ignore\")\n",
        "import numpy as np\n",
        "import matplotlib.pyplot as plt\n",
        "import seaborn as sns\n",
        "from keras.models import Sequential\n",
        "from keras.layers import Dense, LSTM\n",
        "import pandas as pd\n",
        "from sklearn.preprocessing import MinMaxScaler\n",
        "from datetime import datetime\n",
        "from datetime import timedelta\n",
        "from tqdm import tqdm"
      ]
    },
    {
      "cell_type": "code",
      "source": [
        "#!unzip /content/tmp.zip"
      ],
      "metadata": {
        "id": "KwWDlQ3Lu4IJ"
      },
      "execution_count": 5,
      "outputs": []
    },
    {
      "cell_type": "markdown",
      "source": [
        "# Use LSTM model to make prediction"
      ],
      "metadata": {
        "id": "McsHQHpa8va4"
      }
    },
    {
      "cell_type": "code",
      "source": [
        "df = pd.read_csv('/content/tmp/data_origin.csv/part-00000-6cf2e280-a147-4300-a46c-9d14b77e7126-c000.csv')\n",
        "df.head()"
      ],
      "metadata": {
        "colab": {
          "base_uri": "https://localhost:8080/",
          "height": 206
        },
        "id": "BFtgJUxPtsII",
        "outputId": "ee5aef77-bb4a-45ea-9967-57ca331fafe5"
      },
      "execution_count": 6,
      "outputs": [
        {
          "output_type": "execute_result",
          "data": {
            "text/plain": [
              "         Date     Open     High      Low    Close\n",
              "0  12/10/2012  1418.07  1421.64  1415.64  1418.55\n",
              "1  12/07/2012  1413.95  1420.34  1410.90  1418.07\n",
              "2  12/06/2012  1409.43  1413.95  1405.93  1413.94\n",
              "3  12/05/2012  1407.05  1415.56  1398.23  1409.28\n",
              "4  12/04/2012  1409.46  1413.14  1403.65  1407.05"
            ],
            "text/html": [
              "\n",
              "  <div id=\"df-75b7615e-ec3e-4b0f-91c4-8e7e714613a0\">\n",
              "    <div class=\"colab-df-container\">\n",
              "      <div>\n",
              "<style scoped>\n",
              "    .dataframe tbody tr th:only-of-type {\n",
              "        vertical-align: middle;\n",
              "    }\n",
              "\n",
              "    .dataframe tbody tr th {\n",
              "        vertical-align: top;\n",
              "    }\n",
              "\n",
              "    .dataframe thead th {\n",
              "        text-align: right;\n",
              "    }\n",
              "</style>\n",
              "<table border=\"1\" class=\"dataframe\">\n",
              "  <thead>\n",
              "    <tr style=\"text-align: right;\">\n",
              "      <th></th>\n",
              "      <th>Date</th>\n",
              "      <th>Open</th>\n",
              "      <th>High</th>\n",
              "      <th>Low</th>\n",
              "      <th>Close</th>\n",
              "    </tr>\n",
              "  </thead>\n",
              "  <tbody>\n",
              "    <tr>\n",
              "      <th>0</th>\n",
              "      <td>12/10/2012</td>\n",
              "      <td>1418.07</td>\n",
              "      <td>1421.64</td>\n",
              "      <td>1415.64</td>\n",
              "      <td>1418.55</td>\n",
              "    </tr>\n",
              "    <tr>\n",
              "      <th>1</th>\n",
              "      <td>12/07/2012</td>\n",
              "      <td>1413.95</td>\n",
              "      <td>1420.34</td>\n",
              "      <td>1410.90</td>\n",
              "      <td>1418.07</td>\n",
              "    </tr>\n",
              "    <tr>\n",
              "      <th>2</th>\n",
              "      <td>12/06/2012</td>\n",
              "      <td>1409.43</td>\n",
              "      <td>1413.95</td>\n",
              "      <td>1405.93</td>\n",
              "      <td>1413.94</td>\n",
              "    </tr>\n",
              "    <tr>\n",
              "      <th>3</th>\n",
              "      <td>12/05/2012</td>\n",
              "      <td>1407.05</td>\n",
              "      <td>1415.56</td>\n",
              "      <td>1398.23</td>\n",
              "      <td>1409.28</td>\n",
              "    </tr>\n",
              "    <tr>\n",
              "      <th>4</th>\n",
              "      <td>12/04/2012</td>\n",
              "      <td>1409.46</td>\n",
              "      <td>1413.14</td>\n",
              "      <td>1403.65</td>\n",
              "      <td>1407.05</td>\n",
              "    </tr>\n",
              "  </tbody>\n",
              "</table>\n",
              "</div>\n",
              "      <button class=\"colab-df-convert\" onclick=\"convertToInteractive('df-75b7615e-ec3e-4b0f-91c4-8e7e714613a0')\"\n",
              "              title=\"Convert this dataframe to an interactive table.\"\n",
              "              style=\"display:none;\">\n",
              "        \n",
              "  <svg xmlns=\"http://www.w3.org/2000/svg\" height=\"24px\"viewBox=\"0 0 24 24\"\n",
              "       width=\"24px\">\n",
              "    <path d=\"M0 0h24v24H0V0z\" fill=\"none\"/>\n",
              "    <path d=\"M18.56 5.44l.94 2.06.94-2.06 2.06-.94-2.06-.94-.94-2.06-.94 2.06-2.06.94zm-11 1L8.5 8.5l.94-2.06 2.06-.94-2.06-.94L8.5 2.5l-.94 2.06-2.06.94zm10 10l.94 2.06.94-2.06 2.06-.94-2.06-.94-.94-2.06-.94 2.06-2.06.94z\"/><path d=\"M17.41 7.96l-1.37-1.37c-.4-.4-.92-.59-1.43-.59-.52 0-1.04.2-1.43.59L10.3 9.45l-7.72 7.72c-.78.78-.78 2.05 0 2.83L4 21.41c.39.39.9.59 1.41.59.51 0 1.02-.2 1.41-.59l7.78-7.78 2.81-2.81c.8-.78.8-2.07 0-2.86zM5.41 20L4 18.59l7.72-7.72 1.47 1.35L5.41 20z\"/>\n",
              "  </svg>\n",
              "      </button>\n",
              "      \n",
              "  <style>\n",
              "    .colab-df-container {\n",
              "      display:flex;\n",
              "      flex-wrap:wrap;\n",
              "      gap: 12px;\n",
              "    }\n",
              "\n",
              "    .colab-df-convert {\n",
              "      background-color: #E8F0FE;\n",
              "      border: none;\n",
              "      border-radius: 50%;\n",
              "      cursor: pointer;\n",
              "      display: none;\n",
              "      fill: #1967D2;\n",
              "      height: 32px;\n",
              "      padding: 0 0 0 0;\n",
              "      width: 32px;\n",
              "    }\n",
              "\n",
              "    .colab-df-convert:hover {\n",
              "      background-color: #E2EBFA;\n",
              "      box-shadow: 0px 1px 2px rgba(60, 64, 67, 0.3), 0px 1px 3px 1px rgba(60, 64, 67, 0.15);\n",
              "      fill: #174EA6;\n",
              "    }\n",
              "\n",
              "    [theme=dark] .colab-df-convert {\n",
              "      background-color: #3B4455;\n",
              "      fill: #D2E3FC;\n",
              "    }\n",
              "\n",
              "    [theme=dark] .colab-df-convert:hover {\n",
              "      background-color: #434B5C;\n",
              "      box-shadow: 0px 1px 3px 1px rgba(0, 0, 0, 0.15);\n",
              "      filter: drop-shadow(0px 1px 2px rgba(0, 0, 0, 0.3));\n",
              "      fill: #FFFFFF;\n",
              "    }\n",
              "  </style>\n",
              "\n",
              "      <script>\n",
              "        const buttonEl =\n",
              "          document.querySelector('#df-75b7615e-ec3e-4b0f-91c4-8e7e714613a0 button.colab-df-convert');\n",
              "        buttonEl.style.display =\n",
              "          google.colab.kernel.accessAllowed ? 'block' : 'none';\n",
              "\n",
              "        async function convertToInteractive(key) {\n",
              "          const element = document.querySelector('#df-75b7615e-ec3e-4b0f-91c4-8e7e714613a0');\n",
              "          const dataTable =\n",
              "            await google.colab.kernel.invokeFunction('convertToInteractive',\n",
              "                                                     [key], {});\n",
              "          if (!dataTable) return;\n",
              "\n",
              "          const docLinkHtml = 'Like what you see? Visit the ' +\n",
              "            '<a target=\"_blank\" href=https://colab.research.google.com/notebooks/data_table.ipynb>data table notebook</a>'\n",
              "            + ' to learn more about interactive tables.';\n",
              "          element.innerHTML = '';\n",
              "          dataTable['output_type'] = 'display_data';\n",
              "          await google.colab.output.renderOutput(dataTable, element);\n",
              "          const docLink = document.createElement('div');\n",
              "          docLink.innerHTML = docLinkHtml;\n",
              "          element.appendChild(docLink);\n",
              "        }\n",
              "      </script>\n",
              "    </div>\n",
              "  </div>\n",
              "  "
            ]
          },
          "metadata": {},
          "execution_count": 6
        }
      ]
    },
    {
      "cell_type": "code",
      "source": [
        "data = df.filter(['Close'])\n",
        "dataset = data.values\n",
        "training_data_len = int(np.ceil( len(dataset) * .95 ))\n",
        "training_data_len"
      ],
      "metadata": {
        "colab": {
          "base_uri": "https://localhost:8080/"
        },
        "id": "lRr_zp1x3KWC",
        "outputId": "d209fae1-37cc-4ac9-fa60-153ebb1ec185"
      },
      "execution_count": 7,
      "outputs": [
        {
          "output_type": "execute_result",
          "data": {
            "text/plain": [
              "2619"
            ]
          },
          "metadata": {},
          "execution_count": 7
        }
      ]
    },
    {
      "cell_type": "code",
      "source": [
        "scaler = MinMaxScaler(feature_range=(0,1))\n",
        "scaled_data = scaler.fit_transform(dataset)\n",
        "\n",
        "train_data = scaled_data[0:int(training_data_len), :]\n",
        "x_train = []\n",
        "y_train = []\n",
        "\n",
        "for i in range(60, len(train_data)):\n",
        "    x_train.append(train_data[i-60:i, 0])\n",
        "    y_train.append(train_data[i, 0])\n",
        "    if i<= 61:\n",
        "        print(x_train)\n",
        "        print(y_train)\n",
        "        print()\n",
        "        \n",
        "x_train, y_train = np.array(x_train), np.array(y_train)\n",
        "\n",
        "x_train = np.reshape(x_train, (x_train.shape[0], x_train.shape[1], 1))"
      ],
      "metadata": {
        "colab": {
          "base_uri": "https://localhost:8080/"
        },
        "id": "0Bg28OfN3ORf",
        "outputId": "3ed63b57-d09e-481a-ea35-ec7f0050815f"
      },
      "execution_count": 8,
      "outputs": [
        {
          "output_type": "stream",
          "name": "stdout",
          "text": [
            "[array([0.04020173, 0.04006535, 0.03889189, 0.03756784, 0.03693422,\n",
            "       0.03761898, 0.03952834, 0.03946299, 0.03775252, 0.03462992,\n",
            "       0.03671828, 0.0375309 , 0.03238244, 0.03146754, 0.03120614,\n",
            "       0.02353175, 0.02167069, 0.02228442, 0.02769427, 0.029257  ,\n",
            "       0.02920585, 0.02854099, 0.0333769 , 0.04299758, 0.0398352 ,\n",
            "       0.03896576, 0.04277028, 0.03838613, 0.03832363, 0.03861628,\n",
            "       0.03741725, 0.03865606, 0.04454042, 0.04436141, 0.05122319,\n",
            "       0.05223753, 0.05053559, 0.04633329, 0.04305441, 0.04426197,\n",
            "       0.04418241, 0.04671686, 0.05080835, 0.05224322, 0.05237676,\n",
            "       0.04941895, 0.0479301 , 0.0475721 , 0.04648672, 0.04832789,\n",
            "       0.04439835, 0.04674812, 0.05109533, 0.05202159, 0.05205285,\n",
            "       0.05227731, 0.05178577, 0.05231709, 0.05361841, 0.05197613])]\n",
            "[0.04531893734905529]\n",
            "\n",
            "[array([0.04020173, 0.04006535, 0.03889189, 0.03756784, 0.03693422,\n",
            "       0.03761898, 0.03952834, 0.03946299, 0.03775252, 0.03462992,\n",
            "       0.03671828, 0.0375309 , 0.03238244, 0.03146754, 0.03120614,\n",
            "       0.02353175, 0.02167069, 0.02228442, 0.02769427, 0.029257  ,\n",
            "       0.02920585, 0.02854099, 0.0333769 , 0.04299758, 0.0398352 ,\n",
            "       0.03896576, 0.04277028, 0.03838613, 0.03832363, 0.03861628,\n",
            "       0.03741725, 0.03865606, 0.04454042, 0.04436141, 0.05122319,\n",
            "       0.05223753, 0.05053559, 0.04633329, 0.04305441, 0.04426197,\n",
            "       0.04418241, 0.04671686, 0.05080835, 0.05224322, 0.05237676,\n",
            "       0.04941895, 0.0479301 , 0.0475721 , 0.04648672, 0.04832789,\n",
            "       0.04439835, 0.04674812, 0.05109533, 0.05202159, 0.05205285,\n",
            "       0.05227731, 0.05178577, 0.05231709, 0.05361841, 0.05197613]), array([0.04006535, 0.03889189, 0.03756784, 0.03693422, 0.03761898,\n",
            "       0.03952834, 0.03946299, 0.03775252, 0.03462992, 0.03671828,\n",
            "       0.0375309 , 0.03238244, 0.03146754, 0.03120614, 0.02353175,\n",
            "       0.02167069, 0.02228442, 0.02769427, 0.029257  , 0.02920585,\n",
            "       0.02854099, 0.0333769 , 0.04299758, 0.0398352 , 0.03896576,\n",
            "       0.04277028, 0.03838613, 0.03832363, 0.03861628, 0.03741725,\n",
            "       0.03865606, 0.04454042, 0.04436141, 0.05122319, 0.05223753,\n",
            "       0.05053559, 0.04633329, 0.04305441, 0.04426197, 0.04418241,\n",
            "       0.04671686, 0.05080835, 0.05224322, 0.05237676, 0.04941895,\n",
            "       0.0479301 , 0.0475721 , 0.04648672, 0.04832789, 0.04439835,\n",
            "       0.04674812, 0.05109533, 0.05202159, 0.05205285, 0.05227731,\n",
            "       0.05178577, 0.05231709, 0.05361841, 0.05197613, 0.04531894])]\n",
            "[0.04531893734905529, 0.04446654354311691]\n",
            "\n"
          ]
        }
      ]
    },
    {
      "cell_type": "code",
      "source": [
        "model = Sequential()\n",
        "model.add(LSTM(128, return_sequences=True, input_shape= (x_train.shape[1], 1)))\n",
        "model.add(LSTM(64, return_sequences=False))\n",
        "model.add(Dense(25))\n",
        "model.add(Dense(1))\n",
        "\n",
        "model.compile(optimizer='adam', loss='mean_squared_error')\n",
        "model.fit(x_train, y_train, batch_size=1, epochs=1)"
      ],
      "metadata": {
        "colab": {
          "base_uri": "https://localhost:8080/"
        },
        "id": "OJbYyldt3fh2",
        "outputId": "6a9477d9-2c00-4267-8465-1735a518fc6e"
      },
      "execution_count": 9,
      "outputs": [
        {
          "output_type": "stream",
          "name": "stdout",
          "text": [
            "2559/2559 [==============================] - 105s 40ms/step - loss: 0.0017\n"
          ]
        },
        {
          "output_type": "execute_result",
          "data": {
            "text/plain": [
              "<keras.callbacks.History at 0x7f25875f4ca0>"
            ]
          },
          "metadata": {},
          "execution_count": 9
        }
      ]
    },
    {
      "cell_type": "code",
      "source": [
        "test_data = scaled_data[training_data_len - 60: , :]\n",
        "x_test = []\n",
        "y_test = dataset[training_data_len:, :]\n",
        "for i in range(60, len(test_data)):\n",
        "    x_test.append(test_data[i-60:i, 0])\n",
        "    \n",
        "x_test = np.array(x_test)\n",
        "x_test = np.reshape(x_test, (x_test.shape[0], x_test.shape[1], 1 ))\n",
        "\n",
        "predictions = model.predict(x_test)\n",
        "predictions = scaler.inverse_transform(predictions)\n",
        "\n",
        "rmse = np.sqrt(np.mean(((predictions - y_test) ** 2)))\n",
        "rmse"
      ],
      "metadata": {
        "colab": {
          "base_uri": "https://localhost:8080/"
        },
        "id": "_aujUzOg4Gs1",
        "outputId": "0c41afc4-f75d-4aae-8819-395f8ab53f09"
      },
      "execution_count": 10,
      "outputs": [
        {
          "output_type": "stream",
          "name": "stdout",
          "text": [
            "5/5 [==============================] - 2s 64ms/step\n"
          ]
        },
        {
          "output_type": "execute_result",
          "data": {
            "text/plain": [
              "104.96657260091963"
            ]
          },
          "metadata": {},
          "execution_count": 10
        }
      ]
    },
    {
      "cell_type": "code",
      "source": [
        "train = data.loc[:training_data_len]\n",
        "valid = data.loc[training_data_len:]\n",
        "valid['Predictions'] = predictions\n",
        "# pr = pd.DataFrame(predictions, columns = ['predictions'])\n",
        "# pr.to_csv('predictions.csv', encoding='utf-8', index=False)\n",
        "plt.figure(figsize=(16,6))\n",
        "plt.title('Model')\n",
        "plt.xlabel('Date', fontsize=18)\n",
        "plt.ylabel('Close Price USD ($)', fontsize=18)\n",
        "plt.plot(train['Close'])\n",
        "plt.plot(valid[['Close', 'Predictions']])\n",
        "plt.legend(['Train', 'Val', 'Predictions'], loc='lower right')\n",
        "plt.show()"
      ],
      "metadata": {
        "colab": {
          "base_uri": "https://localhost:8080/",
          "height": 412
        },
        "id": "tGmBEzWK4IiJ",
        "outputId": "4e368d29-2812-4775-fc91-7dd6e7b7e976"
      },
      "execution_count": 11,
      "outputs": [
        {
          "output_type": "display_data",
          "data": {
            "text/plain": [
              "<Figure size 1152x432 with 1 Axes>"
            ],
            "image/png": "[encoded data removed]"
          },
          "metadata": {
            "needs_background": "light"
          }
        }
      ]
    }
  ]
}